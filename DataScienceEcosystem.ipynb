{
 "cells": [
  {
   "cell_type": "markdown",
   "id": "1520ab0c-49d1-40d3-8d03-42564a314334",
   "metadata": {},
   "source": [
    "# Data Science Tools and Ecosystem \n"
   ]
  },
  {
   "cell_type": "markdown",
   "id": "0829db42-f2c3-41a0-8326-9c967622a6c9",
   "metadata": {},
   "source": [
    "Data Science is the study of data to get insight for businesses. In this notebook, Data Science Tools and Ecosystem are summarized. "
   ]
  },
  {
   "cell_type": "markdown",
   "id": "a6060256-4bbb-42c0-a8b8-fdb089fc3080",
   "metadata": {},
   "source": [
    "## Objectives:\n",
    "A brief introduction to Data Science such as:\n",
    "* Programming Languages\n",
    "* Popular Data Science Libraries\n",
    "* Common Tools for Data Science\n",
    "* Basic Arithmetic Expressions"
   ]
  },
  {
   "cell_type": "markdown",
   "id": "7a36e13c-ac39-4015-80a5-49e8e66fd239",
   "metadata": {},
   "source": []
  },
  {
   "cell_type": "markdown",
   "id": "dcaae0f3-59e6-4b31-93bb-6557e98fdf95",
   "metadata": {},
   "source": [
    "Data Science Languages\n",
    "***\n",
    "Some of the popular languages that Data Scientists use are:\n",
    "1. Python\n",
    "2. R\n",
    "3. Scala \n",
    "4. SQL "
   ]
  },
  {
   "cell_type": "markdown",
   "id": "1d3c5b84-17aa-4598-9eef-1f0564315fa3",
   "metadata": {},
   "source": [
    "Data Science Libraries \n",
    "***\n",
    "Some of the commonly used libraries of Data Scientists include:\n",
    "* Python Libraries\n",
    "  1. Pandas\n",
    "  2. NumPy\n",
    "  3. Matplotlib\n",
    "* R Libraries\n",
    "  1. Ggplot 2\n",
    "  2. Keras\n",
    "* Scala Libraries\n",
    "  1. Vegas\n",
    "  2. BigDL"
   ]
  },
  {
   "cell_type": "markdown",
   "id": "2a0864ba-559f-4a83-9da0-5d5eb0381809",
   "metadata": {},
   "source": [
    "\n",
    "|Data Science Tools      |\n",
    "|------------------------|\n",
    "|Jupyter Notebooks       |       \n",
    "|Jupyter Labs            | \n",
    "|R Studio                | \n",
    "|Apache Zeppelin         |\n",
    "\n"
   ]
  },
  {
   "cell_type": "markdown",
   "id": "f90ac503-7abb-4093-8ca1-68d4ab99c6e0",
   "metadata": {},
   "source": [
    "### Below are few examples of evaluating arithmetic expressions in python"
   ]
  },
  {
   "cell_type": "code",
   "execution_count": 40,
   "id": "d5837e3f-dcbe-4f1c-b88d-a69a7c708b65",
   "metadata": {},
   "outputs": [
    {
     "data": {
      "text/plain": [
       "17"
      ]
     },
     "execution_count": 40,
     "metadata": {},
     "output_type": "execute_result"
    }
   ],
   "source": [
    "(3*4)+5  # simple arithmetic expression to multiply then add integers"
   ]
  },
  {
   "cell_type": "markdown",
   "id": "e0a67fd1-d1ee-4ba8-8a2e-db2f079368c2",
   "metadata": {},
   "source": [
    "### coverts minutes to hours"
   ]
  },
  {
   "cell_type": "code",
   "execution_count": 42,
   "id": "4175f83c-d09f-45df-acc7-3844f44529a6",
   "metadata": {},
   "outputs": [
    {
     "name": "stdout",
     "output_type": "stream",
     "text": [
      "3.3333333333333335 hours\n"
     ]
    }
   ],
   "source": [
    "# code to convert minutes to hours by dividing by 60\n",
    "Minutes = 200           # enter value in minutes\n",
    "One_hour = 60           # 60 minutes in every hour\n",
    "C = Minutes/One_hour    # convert minutes to hours\n",
    "print(C, \"hours\")       # display hours "
   ]
  },
  {
   "cell_type": "markdown",
   "id": "888c3786-cdab-45e6-8cdf-3df161ceeeac",
   "metadata": {},
   "source": [
    "## Author\n",
    "Wisdom Ofori"
   ]
  },
  {
   "cell_type": "code",
   "execution_count": null,
   "id": "db73d0d9-0714-470e-9066-a43d896030f9",
   "metadata": {},
   "outputs": [],
   "source": []
  }
 ],
 "metadata": {
  "kernelspec": {
   "display_name": "Python",
   "language": "python",
   "name": "conda-env-python-py"
  },
  "language_info": {
   "codemirror_mode": {
    "name": "ipython",
    "version": 3
   },
   "file_extension": ".py",
   "mimetype": "text/x-python",
   "name": "python",
   "nbconvert_exporter": "python",
   "pygments_lexer": "ipython3",
   "version": "3.7.12"
  }
 },
 "nbformat": 4,
 "nbformat_minor": 5
}
